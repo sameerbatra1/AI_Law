{
 "cells": [
  {
   "cell_type": "code",
   "execution_count": 1,
   "id": "9c788cb2-9909-4c71-b7c1-1eed4ce58d9f",
   "metadata": {},
   "outputs": [],
   "source": [
    "from transformers import AutoModelForCausalLM, AutoTokenizer, AdamW\n",
    "from transformers import pipeline\n",
    "\n",
    "model_id = 'model/Mistral-7B-v0.1'\n",
    "device = \"cpu\"\n",
    "\n",
    "tokenizer = AutoTokenizer.from_pretrained(model_id)"
   ]
  },
  {
   "cell_type": "code",
   "execution_count": 2,
   "id": "1d706b76-3455-4b3b-b1a5-c17cdecc1741",
   "metadata": {},
   "outputs": [
    {
     "data": {
      "application/vnd.jupyter.widget-view+json": {
       "model_id": "41aa4fe6755441b19d09fec6f7af85cc",
       "version_major": 2,
       "version_minor": 0
      },
      "text/plain": [
       "Loading checkpoint shards:   0%|          | 0/2 [00:00<?, ?it/s]"
      ]
     },
     "metadata": {},
     "output_type": "display_data"
    }
   ],
   "source": [
    "import torch\n",
    "model = AutoModelForCausalLM.from_pretrained(model_id, torch_dtype=torch.bfloat16, device_map=device)"
   ]
  },
  {
   "cell_type": "code",
   "execution_count": 6,
   "id": "3eccc1e4-c2aa-40ee-90ea-27245e6bce59",
   "metadata": {},
   "outputs": [
    {
     "name": "stderr",
     "output_type": "stream",
     "text": [
      "Device set to use cpu\n",
      "Setting `pad_token_id` to `eos_token_id`:2 for open-end generation.\n"
     ]
    },
    {
     "data": {
      "text/plain": [
       "[{'generated_text': 'Hello what are you?\\n\\nI am a 20 year old student from the Netherlands. I am currently studying at the University of Amsterdam.'}]"
      ]
     },
     "execution_count": 6,
     "metadata": {},
     "output_type": "execute_result"
    }
   ],
   "source": [
    "generation_pipeline = pipeline(task=\"text-generation\",\n",
    "                               model = model, tokenizer = tokenizer)\n",
    "\n",
    "generation_pipeline(\"Hello what are you?\", max_new_tokens=25)"
   ]
  },
  {
   "cell_type": "code",
   "execution_count": 8,
   "id": "d9f21820-4532-403e-8034-fae58070506e",
   "metadata": {},
   "outputs": [
    {
     "name": "stderr",
     "output_type": "stream",
     "text": [
      "Setting `pad_token_id` to `eos_token_id`:2 for open-end generation.\n"
     ]
    },
    {
     "data": {
      "text/plain": [
       "[{'generated_text': 'Hello what is capital of pakistan?\\n\\nThe capital of Pakistan is Islamabad.\\n\\nIslamabad is the capital of Pakistan.\\n\\nI'}]"
      ]
     },
     "execution_count": 8,
     "metadata": {},
     "output_type": "execute_result"
    }
   ],
   "source": [
    "generation_pipeline(\"Hello what is capital of pakistan?\", max_new_tokens=25)"
   ]
  },
  {
   "cell_type": "code",
   "execution_count": 14,
   "id": "7a1c0104-89f4-42a8-aac6-bf02b7ca2b02",
   "metadata": {},
   "outputs": [],
   "source": [
    "def response(query):\n",
    "    if query==\"Who are you?\":\n",
    "        return \"I am Law Assist. I am designed to help people solve their income tax problems.\"\n",
    "    else:\n",
    "        return generation_pipeline(query)"
   ]
  },
  {
   "cell_type": "code",
   "execution_count": 16,
   "id": "02ac462b-1086-4d16-8ef1-519ac979c639",
   "metadata": {},
   "outputs": [
    {
     "data": {
      "text/plain": [
       "'I am Law Assist. I am designed to help people solve their income tax problems.'"
      ]
     },
     "execution_count": 16,
     "metadata": {},
     "output_type": "execute_result"
    }
   ],
   "source": [
    "response(\"Who are you?\")"
   ]
  },
  {
   "cell_type": "code",
   "execution_count": 18,
   "id": "d9f3ae8e-83d9-4609-9b14-f53af6f6c582",
   "metadata": {},
   "outputs": [
    {
     "name": "stderr",
     "output_type": "stream",
     "text": [
      "Setting `pad_token_id` to `eos_token_id`:2 for open-end generation.\n"
     ]
    },
    {
     "data": {
      "text/plain": [
       "[{'generated_text': 'What are the my legal rights if I am getting fined for over speeding?\\n\\n- The police can issue a fixed penalty notice for speeding.\\n- The police'}]"
      ]
     },
     "execution_count": 18,
     "metadata": {},
     "output_type": "execute_result"
    }
   ],
   "source": [
    "response(\"What are the my legal rights if I am getting fined for over speeding\")"
   ]
  },
  {
   "cell_type": "code",
   "execution_count": null,
   "id": "abe35665-4295-4732-9bc3-3c09b33419e8",
   "metadata": {},
   "outputs": [],
   "source": []
  }
 ],
 "metadata": {
  "kernelspec": {
   "display_name": "Python 3 (ipykernel)",
   "language": "python",
   "name": "python3"
  },
  "language_info": {
   "codemirror_mode": {
    "name": "ipython",
    "version": 3
   },
   "file_extension": ".py",
   "mimetype": "text/x-python",
   "name": "python",
   "nbconvert_exporter": "python",
   "pygments_lexer": "ipython3",
   "version": "3.12.7"
  }
 },
 "nbformat": 4,
 "nbformat_minor": 5
}
