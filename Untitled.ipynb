{
 "cells": [
  {
   "cell_type": "code",
   "execution_count": 1,
   "id": "9c788cb2-9909-4c71-b7c1-1eed4ce58d9f",
   "metadata": {},
   "outputs": [],
   "source": [
    "from transformers import AutoModelForCausalLM, AutoTokenizer, AdamW\n",
    "from transformers import pipeline\n",
    "\n",
    "model_id = 'model/Mistral-7B-v0.1'\n",
    "device = \"cpu\"\n",
    "\n",
    "tokenizer = AutoTokenizer.from_pretrained(model_id)"
   ]
  },
  {
   "cell_type": "code",
   "execution_count": 1,
   "id": "1d706b76-3455-4b3b-b1a5-c17cdecc1741",
   "metadata": {},
   "outputs": [
    {
     "ename": "NameError",
     "evalue": "name 'AutoModelForCausalLM' is not defined",
     "output_type": "error",
     "traceback": [
      "\u001b[1;31m---------------------------------------------------------------------------\u001b[0m",
      "\u001b[1;31mNameError\u001b[0m                                 Traceback (most recent call last)",
      "Cell \u001b[1;32mIn[1], line 2\u001b[0m\n\u001b[0;32m      1\u001b[0m \u001b[38;5;28;01mimport\u001b[39;00m \u001b[38;5;21;01mtorch\u001b[39;00m\n\u001b[1;32m----> 2\u001b[0m model \u001b[38;5;241m=\u001b[39m AutoModelForCausalLM\u001b[38;5;241m.\u001b[39mfrom_pretrained(model_id, torch_dtype\u001b[38;5;241m=\u001b[39mtorch\u001b[38;5;241m.\u001b[39mbfloat16, device_map\u001b[38;5;241m=\u001b[39mdevice)\n",
      "\u001b[1;31mNameError\u001b[0m: name 'AutoModelForCausalLM' is not defined"
     ]
    }
   ],
   "source": [
    "import torch\n",
    "model = AutoModelForCausalLM.from_pretrained(model_id, torch_dtype=torch.bfloat16, device_map=device)"
   ]
  },
  {
   "cell_type": "code",
   "execution_count": null,
   "id": "3eccc1e4-c2aa-40ee-90ea-27245e6bce59",
   "metadata": {},
   "outputs": [],
   "source": [
    "generation_pipeline = pipeline(task=\"text-generation\",\n",
    "                               model = model, tokenizer = tokenizer)\n",
    "\n",
    "generation_pipeline(\"Hello what are you?\", max_new_tokens=25)"
   ]
  },
  {
   "cell_type": "code",
   "execution_count": null,
   "id": "d9f21820-4532-403e-8034-fae58070506e",
   "metadata": {},
   "outputs": [],
   "source": [
    "generation_pipeline(\"Hello what is capital of pakistan?\", max_new_tokens=25)"
   ]
  },
  {
   "cell_type": "code",
   "execution_count": null,
   "id": "7a1c0104-89f4-42a8-aac6-bf02b7ca2b02",
   "metadata": {},
   "outputs": [],
   "source": [
    "def response(query):\n",
    "    if query==\"Who are you?\":\n",
    "        return \"Greetings! I am Law Assist, your intelligent legal companion, meticulously designed to guide you through the complexities of income tax regulations. Leveraging advanced AI capabilities, I am here to provide clear, reliable, and personalized support to help you navigate tax laws, understand your obligations, and find effective solutions to your income tax-related challenges. Whether you have questions about filing, deductions, legal procedures, or compliance, I am committed to making the legal landscape easier to understand, ensuring you make informed decisions with confidence.\"\n",
    "    else:\n",
    "        return generation_pipeline(query)"
   ]
  },
  {
   "cell_type": "code",
   "execution_count": null,
   "id": "02ac462b-1086-4d16-8ef1-519ac979c639",
   "metadata": {},
   "outputs": [],
   "source": [
    "response(\"Who are you?\")"
   ]
  },
  {
   "cell_type": "code",
   "execution_count": null,
   "id": "d9f3ae8e-83d9-4609-9b14-f53af6f6c582",
   "metadata": {},
   "outputs": [],
   "source": [
    "response(\"What are the my legal rights if I am getting fined for over speeding\")"
   ]
  },
  {
   "cell_type": "code",
   "execution_count": null,
   "id": "abe35665-4295-4732-9bc3-3c09b33419e8",
   "metadata": {},
   "outputs": [],
   "source": []
  }
 ],
 "metadata": {
  "kernelspec": {
   "display_name": "Python 3 (ipykernel)",
   "language": "python",
   "name": "python3"
  },
  "language_info": {
   "codemirror_mode": {
    "name": "ipython",
    "version": 3
   },
   "file_extension": ".py",
   "mimetype": "text/x-python",
   "name": "python",
   "nbconvert_exporter": "python",
   "pygments_lexer": "ipython3",
   "version": "3.11.7"
  }
 },
 "nbformat": 4,
 "nbformat_minor": 5
}
